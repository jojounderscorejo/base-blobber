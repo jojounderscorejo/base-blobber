{
 "cells": [
  {
   "cell_type": "markdown",
   "metadata": {},
   "source": [
    "# Blobber for Python Beginners\n",
    "\n",
    "To utilise Blobber, the best interface would be running Python on Jupyter Notebook. However, if one does not have previous experiences with Jupyter Notebook or Python, here is a step by step guide to install Jupyter Notebook.\n",
    "\n",
    "## 1) Installing Anaconda on your computer\n",
    "\n",
    "Since there is already an official step by step guide on installing Anaconda. I will not re-iterate the installation steps. One can find the official installation guide for [Windows here](https://docs.anaconda.com/anaconda/install/windows/); And for macOS, the installation guide is [here](https://docs.anaconda.com/anaconda/install/mac-os/).\n",
    "\n",
    "## 2) Opening Jupyter Notebook on your computer\n",
    "\n",
    "After installing Anaconda, open the Anaconda navigator, you should see something like this, where Jupyter note book is already in the navigator.\n",
    "\n",
    "<img src='images/Anaconda Navigator.png'>\n",
    "\n",
    "Now, simply click on the launch button, an instance of Jupyter Notebook should automatically open in your default browswer. You should see your file directory display as it is shown in the picture below.\n",
    "\n",
    "<img src='images/Jupyter 1.png'>\n",
    "\n",
    "You can now freely navigate to different directories via this file directory interface.\n",
    "\n",
    "## 3) Opening a Terminal in Jupyter Notebook\n",
    "\n",
    "It is important that you use the **terminal in Jupyter Notebook**, to do that, click on the `New` tab then click on the `Terminal` tab, as shown in the figure below.\n",
    "\n",
    "<img src='images/Jupyter 2.png'>\n",
    "\n",
    "## 4) Installing Blobber in your default Anaconda Python environment\n",
    "\n",
    "Assuming now you are in your terminal that you opened a moment ago in Jupyter Notebook. You need to firstly activate your default Anaconda Python environment. This can be done via typing the following command in the terminal:\n",
    "<br/><br/>\n",
    "<center>\n",
    "    <code>conda activate</code>\n",
    "</center>\n",
    "\n",
    "Then, you can install Blobber one one simple command:\n",
    "<br/><br/>\n",
    "<center>\n",
    "    <code>python -m pip install blobber</code>\n",
    "</center>\n",
    "\n",
    "Now, assuming you have followed the above steps correctly, you should have now have Blobber installed and ready to go!\n",
    "\n",
    "Following is a screenshot of my terminal after I have ran the above steps.\n",
    "\n",
    "<img src='images/Terminal 1.png'>\n",
    "\n",
    "## 5) Creating a Jupyter Notebook file\n",
    "\n",
    "Now, you can create a new Jupyter Notebook file in any directories of your preferences by clicking the `New` tab and seltect the `Python 3 (ipykernel)` tab as shwon in the image below.\n",
    "\n",
    "<img src='images/Jupyter 3.png'>\n",
    "\n",
    "It should automatically redirect you to the newly created file, and to rename it, you need to click on the default name on the top left corner as shown in the following image.\n",
    "\n",
    "<img src='images/Jupyter 4.png'>\n",
    "\n",
    "If you have gotten to here, you are now officially ready to use Blobber!"
   ]
  },
  {
   "cell_type": "code",
   "execution_count": null,
   "metadata": {},
   "outputs": [],
   "source": []
  }
 ],
 "metadata": {
  "kernelspec": {
   "display_name": "Python 3 (ipykernel)",
   "language": "python",
   "name": "python3"
  },
  "language_info": {
   "codemirror_mode": {
    "name": "ipython",
    "version": 3
   },
   "file_extension": ".py",
   "mimetype": "text/x-python",
   "name": "python",
   "nbconvert_exporter": "python",
   "pygments_lexer": "ipython3",
   "version": "3.9.12"
  },
  "vscode": {
   "interpreter": {
    "hash": "b0fa6594d8f4cbf19f97940f81e996739fb7646882a419484c72d19e05852a7e"
   }
  }
 },
 "nbformat": 4,
 "nbformat_minor": 2
}
